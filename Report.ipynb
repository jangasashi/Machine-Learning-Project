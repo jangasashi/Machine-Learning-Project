{
 "cells": [
  {
   "cell_type": "markdown",
   "metadata": {},
   "source": [
    "# Heart Disease Prediction Report"
   ]
  },
  {
   "cell_type": "markdown",
   "metadata": {},
   "source": [
    "# Problem Statement:\n",
    "The goal of this project is to build a system that predicts if a patient has heart disease based on their health data. Early detection can help prevent serious complications. We aim to use patient information to predict whether they have heart disease or not."
   ]
  },
  {
   "cell_type": "markdown",
   "metadata": {},
   "source": [
    "# Dataset Overview\n",
    "The dataset contains various health features for each patient, such as:\n",
    "- **age**: Age of the patient\n",
    "- **sex**: Gender (0 = female, 1 = male)\n",
    "- **chest pain type**: Type of chest pain (1 = typical angina, 2 = atypical angina, 3 = non-anginal pain, 4 = asymptomatic)\n",
    "- **resting blood pressure**: Blood pressure when at rest\n",
    "- **serum cholesterol**: Cholesterol level\n",
    "- **fasting blood sugar**: Blood sugar level (1 = sugar > 120mg/dL, 0 = sugar < 120mg/dL)\n",
    "- **resting electrocardiogram**: ECG result (0 = normal, 1 = abnormal, 2 = left ventricular hypertrophy)\n",
    "- **maximum heart rate**: Highest heart rate during exercise\n",
    "- **exercise-induced angina**: Whether the patient experiences chest pain during exercise (0 = no, 1 = yes)\n",
    "- **oldpeak**: Depression caused by exercise\n",
    "- **ST slope**: Slope of the peak exercise ST segment (1 = upward, 2 = flat, 3 = downward)\n",
    "- **target**: Whether the patient has heart disease (0 = no, 1 = yes)\n"
   ]
  },
  {
   "cell_type": "markdown",
   "metadata": {},
   "source": [
    "# Data Cleaning and Preprocessing\n",
    "We cleaned the dataset by:\n",
    "- Handling missing values\n",
    "- Converting categorical data into a format that machine learning models can understand (encoding categorical features)\n",
    "- Scaling numerical features\n",
    "- Splitting the data into training and testing sets to evaluate the models\n"
   ]
  },
  {
   "cell_type": "markdown",
   "metadata": {},
   "source": [
    "# Model Building and Performance\n",
    "We used two machine learning models:\n",
    "1. **Logistic Regression**: A basic model for predicting binary outcomes.\n",
    "2. **Random Forest Classifier**: A more advanced model that uses multiple decision trees to make predictions.\n",
    "\n",
    "We evaluated both models using accuracy, confusion matrix, and classification report.\n"
   ]
  },
  {
   "cell_type": "markdown",
   "metadata": {},
   "source": [
    "# Key Insights\n",
    "- **Important Features**: The most important factors for predicting heart disease were:\n",
    "  - `ST slope`\n",
    "  - `sex`\n",
    "  - `exercise-induced angina`\n",
    "  - `chest pain type`\n",
    "  - `fasting blood sugar`\n",
    "  \n",
    "- **Model Comparison**: The Random Forest model performed the best, with an accuracy of **95%**, compared to **86%** for Logistic Regression.\n"
   ]
  },
  {
   "cell_type": "markdown",
   "metadata": {},
   "source": [
    "# Conclusion\n",
    "This project successfully built a heart disease prediction system. The Random Forest model performed well with an accuracy of 95%. Key features such as chest pain type, exercise-induced angina, and ST slope were found to be important indicators of heart disease. The model can be used to assist in early heart disease detection.\n",
    "\n",
    "Future improvements could include using additional data or exploring different machine learning models.\n"
   ]
  },
  {
   "cell_type": "code",
   "execution_count": null,
   "metadata": {},
   "outputs": [],
   "source": []
  }
 ],
 "metadata": {
  "kernelspec": {
   "display_name": "Python 3",
   "language": "python",
   "name": "python3"
  },
  "language_info": {
   "codemirror_mode": {
    "name": "ipython",
    "version": 3
   },
   "file_extension": ".py",
   "mimetype": "text/x-python",
   "name": "python",
   "nbconvert_exporter": "python",
   "pygments_lexer": "ipython3",
   "version": "3.12.4"
  }
 },
 "nbformat": 4,
 "nbformat_minor": 2
}
